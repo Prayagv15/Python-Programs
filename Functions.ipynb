{
 "cells": [
  {
   "cell_type": "markdown",
   "id": "12c8bfb9",
   "metadata": {},
   "source": [
    "# Q.1 Write a Python program to get the volume of a sphere with radius 6."
   ]
  },
  {
   "cell_type": "code",
   "execution_count": 37,
   "id": "dd2f3d60",
   "metadata": {},
   "outputs": [
    {
     "name": "stdout",
     "output_type": "stream",
     "text": [
      "Volume of a sphere with radius 6: 904.7786842338603\n"
     ]
    }
   ],
   "source": [
    "import numpy as np\n",
    "print(\"Volume of a sphere with radius 6:\",4/3*np.pi*(6**3))"
   ]
  },
  {
   "cell_type": "markdown",
   "id": "479c598d",
   "metadata": {},
   "source": [
    "# Q.2 Write a Python program to calculate the sum of given three numbers, if the three numbers are equal then return three times of their sum."
   ]
  },
  {
   "cell_type": "code",
   "execution_count": 41,
   "id": "2129d528",
   "metadata": {},
   "outputs": [],
   "source": [
    "def sum_thrice(x,y,z):\n",
    "    \n",
    "    sum=x+y+z\n",
    "    \n",
    "    if x==y==z:\n",
    "        sum=x*3\n",
    "    return sum"
   ]
  },
  {
   "cell_type": "code",
   "execution_count": 42,
   "id": "284d8baf",
   "metadata": {},
   "outputs": [
    {
     "data": {
      "text/plain": [
       "12"
      ]
     },
     "execution_count": 42,
     "metadata": {},
     "output_type": "execute_result"
    }
   ],
   "source": [
    "sum_thrice(3,4,5)"
   ]
  },
  {
   "cell_type": "code",
   "execution_count": 44,
   "id": "b783cb68",
   "metadata": {},
   "outputs": [
    {
     "data": {
      "text/plain": [
       "18"
      ]
     },
     "execution_count": 44,
     "metadata": {},
     "output_type": "execute_result"
    }
   ],
   "source": [
    "sum_thrice(6,6,6)"
   ]
  },
  {
   "cell_type": "markdown",
   "id": "81ece6c2",
   "metadata": {},
   "source": [
    "# Q.3 Write a Python program to count thr number 4 in a given list."
   ]
  },
  {
   "cell_type": "code",
   "execution_count": 45,
   "id": "018727a1",
   "metadata": {},
   "outputs": [],
   "source": [
    "lst=[1,4,6,8,4,9,4]"
   ]
  },
  {
   "cell_type": "code",
   "execution_count": 46,
   "id": "d3f84663",
   "metadata": {},
   "outputs": [],
   "source": [
    "def count_num(x):\n",
    "    count=0\n",
    "    for num in x:\n",
    "        if num==4:\n",
    "            count=count+1\n",
    "    return count"
   ]
  },
  {
   "cell_type": "code",
   "execution_count": 47,
   "id": "badb6c00",
   "metadata": {},
   "outputs": [
    {
     "data": {
      "text/plain": [
       "3"
      ]
     },
     "execution_count": 47,
     "metadata": {},
     "output_type": "execute_result"
    }
   ],
   "source": [
    "count_num(lst)"
   ]
  },
  {
   "cell_type": "markdown",
   "id": "c58aec2a",
   "metadata": {},
   "source": [
    "# Q.4  Write a Python program to print all even numbers from a given numbers list in the same order and stop the printing if any numbers that come after 237 in the sequence."
   ]
  },
  {
   "cell_type": "code",
   "execution_count": 31,
   "id": "0c8e44d3",
   "metadata": {},
   "outputs": [],
   "source": [
    "numbers=[399, 162, 758, 219, 918, 237, 412, 566, 826, 248, 866, 950, 626, 949, 687, 217,\n",
    "815, 67, 104, 58, 512, 24, 892, 894, 767, 553, 81, 379, 843, 831, 445, 742, 717,\n",
    "958,743, 527]"
   ]
  },
  {
   "cell_type": "code",
   "execution_count": 33,
   "id": "dd0828cf",
   "metadata": {},
   "outputs": [
    {
     "name": "stdout",
     "output_type": "stream",
     "text": [
      "[162, 104, 58, 24]\n"
     ]
    }
   ],
   "source": [
    "num=[]\n",
    "for x in numbers:\n",
    "    if x>237:\n",
    "        continue\n",
    "    elif x%2==0:\n",
    "        num.append(x)\n",
    "print(num)"
   ]
  },
  {
   "cell_type": "markdown",
   "id": "335d56b8",
   "metadata": {},
   "source": [
    "# Q.5 Write a Python program to find those numbers which are dicisible by 7 and multiple of 5, between 1500 and 2700 (both included)"
   ]
  },
  {
   "cell_type": "code",
   "execution_count": 77,
   "id": "dd4e64ae",
   "metadata": {},
   "outputs": [
    {
     "name": "stdout",
     "output_type": "stream",
     "text": [
      "Numbers divisible by 5 and 7 are:\n",
      "\n",
      " [1505, 1540, 1575, 1610, 1645, 1680, 1715, 1750, 1785, 1820, 1855, 1890, 1925, 1960, 1995, 2030, 2065, 2100, 2135, 2170, 2205, 2240, 2275, 2310, 2345, 2380, 2415, 2450, 2485, 2520, 2555, 2590, 2625, 2660, 2695]\n"
     ]
    }
   ],
   "source": [
    "a=list(range(1500,2701))\n",
    "nums=[]\n",
    "for x in a:\n",
    "    if x%5==0 and x%7==0:\n",
    "        nums.append(x)\n",
    "print(\"Numbers divisible by 5 and 7 are:\\n\\n\",nums)"
   ]
  },
  {
   "cell_type": "markdown",
   "id": "89b6d593",
   "metadata": {},
   "source": [
    "# Q.6 Write a Python program that prints all the numbers from 0 to 6 except 3 and 6."
   ]
  },
  {
   "cell_type": "code",
   "execution_count": 1,
   "id": "33e385eb",
   "metadata": {},
   "outputs": [],
   "source": [
    "num=[0,1,2,3,4,5,6]"
   ]
  },
  {
   "cell_type": "code",
   "execution_count": 7,
   "id": "a7ea2295",
   "metadata": {},
   "outputs": [
    {
     "name": "stdout",
     "output_type": "stream",
     "text": [
      "[0, 1, 2, 4, 5]\n"
     ]
    }
   ],
   "source": [
    "num1=[]\n",
    "for x in num:\n",
    "    if x==3 or x==6:\n",
    "        continue\n",
    "    else:\n",
    "        num1.append(x)\n",
    "    \n",
    "print(num1)"
   ]
  },
  {
   "cell_type": "markdown",
   "id": "43697565",
   "metadata": {},
   "source": [
    "# Q.7 Write a Python program to get the Fibonacci series between 0 to 50."
   ]
  },
  {
   "cell_type": "code",
   "execution_count": 79,
   "id": "6e66e7ef",
   "metadata": {},
   "outputs": [
    {
     "name": "stdout",
     "output_type": "stream",
     "text": [
      "1\n",
      "1\n",
      "2\n",
      "3\n",
      "5\n",
      "8\n",
      "13\n",
      "21\n",
      "34\n"
     ]
    }
   ],
   "source": [
    "x,y=0,1\n",
    "\n",
    "while y<50:\n",
    "   print(y)\n",
    "   x,y=y,x+y"
   ]
  },
  {
   "cell_type": "markdown",
   "id": "8353269f",
   "metadata": {},
   "source": [
    "# Q.8 Write a Python program to get the Fibonacci series between 0 to 50."
   ]
  },
  {
   "cell_type": "code",
   "execution_count": 80,
   "id": "585ce894",
   "metadata": {},
   "outputs": [
    {
     "name": "stdout",
     "output_type": "stream",
     "text": [
      "1\n",
      "1\n",
      "2\n",
      "3\n",
      "5\n",
      "8\n",
      "13\n",
      "21\n",
      "34\n"
     ]
    }
   ],
   "source": [
    "x,y=0,1\n",
    "\n",
    "while y<50:\n",
    "    print(y)\n",
    "    x,y=y,x+y"
   ]
  },
  {
   "cell_type": "markdown",
   "id": "32563e13",
   "metadata": {},
   "source": [
    "# Q.9 Write a Python function that takes a list and returns a new list with unique elements of the first list."
   ]
  },
  {
   "cell_type": "code",
   "execution_count": 24,
   "id": "ccbc3927",
   "metadata": {},
   "outputs": [],
   "source": [
    "lst=[1,2,3,3,3,3,4,5]"
   ]
  },
  {
   "cell_type": "code",
   "execution_count": 28,
   "id": "f14ac3f9",
   "metadata": {},
   "outputs": [],
   "source": [
    "def unique_list(numbers):\n",
    "    unique=[]\n",
    "    for item in numbers:\n",
    "        if item not in unique:\n",
    "            unique.append(item)\n",
    "    return unique"
   ]
  },
  {
   "cell_type": "code",
   "execution_count": 29,
   "id": "c4366f4f",
   "metadata": {},
   "outputs": [
    {
     "data": {
      "text/plain": [
       "[1, 2, 3, 4, 5]"
      ]
     },
     "execution_count": 29,
     "metadata": {},
     "output_type": "execute_result"
    }
   ],
   "source": [
    "unique_list(lst)"
   ]
  }
 ],
 "metadata": {
  "kernelspec": {
   "display_name": "Python 3 (ipykernel)",
   "language": "python",
   "name": "python3"
  },
  "language_info": {
   "codemirror_mode": {
    "name": "ipython",
    "version": 3
   },
   "file_extension": ".py",
   "mimetype": "text/x-python",
   "name": "python",
   "nbconvert_exporter": "python",
   "pygments_lexer": "ipython3",
   "version": "3.9.12"
  }
 },
 "nbformat": 4,
 "nbformat_minor": 5
}
