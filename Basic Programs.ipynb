{
 "cells": [
  {
   "cell_type": "markdown",
   "id": "0f34195b",
   "metadata": {},
   "source": [
    "# Q.1 Write Python programs to use various operators in Python."
   ]
  },
  {
   "cell_type": "code",
   "execution_count": 17,
   "id": "d9aeb8be",
   "metadata": {},
   "outputs": [
    {
     "name": "stdout",
     "output_type": "stream",
     "text": [
      "Enter first number,a=3\n",
      "Enter second number,b=33\n",
      "a+b= 36\n",
      "a-b= -30\n",
      "a*b= 99\n",
      "a/b= 0.09090909090909091\n"
     ]
    }
   ],
   "source": [
    "# Arithematic Operators.\n",
    "\n",
    "a=int(input(\"Enter first number,a=\"))\n",
    "b=int(input(\"Enter second number,b=\"))\n",
    "add=a+b\n",
    "sub=a-b\n",
    "multi=a*b\n",
    "div=a/b\n",
    "print(\"a+b=\",add)\n",
    "print(\"a-b=\",sub)\n",
    "print(\"a*b=\",multi)\n",
    "print(\"a/b=\",div)"
   ]
  },
  {
   "cell_type": "code",
   "execution_count": 58,
   "id": "7afefbdd",
   "metadata": {},
   "outputs": [
    {
     "name": "stdout",
     "output_type": "stream",
     "text": [
      "Enter 1st  number a=34 \n",
      "Enter 2nd number  b=2\n",
      "Enter 3rd number  c=33\n",
      "a False\n",
      "b>=c False\n",
      "d==c True\n",
      "a!=b True\n",
      "d==c is not a!=b True\n",
      "b==c is d==c False\n"
     ]
    }
   ],
   "source": [
    "# Comparision operators and is ,is not.\n",
    "\n",
    "a=int(input(\"Enter 1st  number a=\"))\n",
    "b=int(input(\"Enter 2nd number  b=\"))\n",
    "c=int(input(\"Enter 3rd number  c=\"))\n",
    "d=c\n",
    "print(\"a\",a<b)\n",
    "print(\"b>=c\",b>=c)\n",
    "print(\"d==c\",d==c)\n",
    "print(\"a!=b\",a!=b)\n",
    "print(\"d==c is not a!=b\",d==c is not a!=b)\n",
    "print(\"b==c is d==c\",b==c is d==c) "
   ]
  },
  {
   "cell_type": "code",
   "execution_count": 59,
   "id": "90e9c955",
   "metadata": {},
   "outputs": [
    {
     "name": "stdout",
     "output_type": "stream",
     "text": [
      "Enter 1st  number a=3\n",
      "Enter 2nd number  b=22\n",
      "Enter 3rd number  c=3\n",
      "a+=5 is 8\n",
      "b-=5 is -2\n",
      "c/5= is 0.6\n",
      "a=  3\n",
      "a=a|5 is 7\n",
      "b= 22\n",
      "b|=5 is 23\n",
      "c= 3\n",
      "c^2 is 1\n",
      "a= 3\n",
      "a>>=5 is 0\n",
      "a= 3\n",
      "a<<=5 is 96\n"
     ]
    }
   ],
   "source": [
    "# Assignment operators.\n",
    "\n",
    "a=int(input(\"Enter 1st  number a=\"))\n",
    "b=int(input(\"Enter 2nd number  b=\"))\n",
    "c=int(input(\"Enter 3rd number  c=\"))\n",
    "print(\"a+=5 is\",a+5)\n",
    "print(\"b-=5 is\",a-5)\n",
    "print(\"c/5= is\",c/5)\n",
    "print(\"a= \",a)\n",
    "print(\"a=a|5 is\",a|5)\n",
    "print(\"b=\",b)\n",
    "print(\"b|=5 is\",b|5)\n",
    "print(\"c=\",c)\n",
    "print(\"c^2 is\",c^2)\n",
    "print(\"a=\",a)\n",
    "print(\"a>>=5 is\",a>>5)\n",
    "print(\"a=\",a)\n",
    "print(\"a<<=5 is\",a<<5)"
   ]
  },
  {
   "cell_type": "code",
   "execution_count": 60,
   "id": "8c0c028e",
   "metadata": {},
   "outputs": [
    {
     "name": "stdout",
     "output_type": "stream",
     "text": [
      "True\n",
      "False\n",
      "False\n"
     ]
    }
   ],
   "source": [
    "# Examples of Identity operators.\n",
    "\n",
    "a1=4\n",
    "b1=4\n",
    "a2='PrayagVK'\n",
    "b2='PrayagV_15'\n",
    "a3=[3,4,2]\n",
    "b3=[2,3,7]\n",
    "\n",
    "print(a1 is not a2)\n",
    "\n",
    "print(a2==b2)\n",
    "\n",
    "print(a3==b3)"
   ]
  },
  {
   "cell_type": "code",
   "execution_count": 30,
   "id": "b7d8c7f6",
   "metadata": {},
   "outputs": [
    {
     "name": "stdout",
     "output_type": "stream",
     "text": [
      "True\n",
      "False\n",
      "True\n",
      "False\n"
     ]
    }
   ],
   "source": [
    "# Examples of Membership operator.\n",
    "\n",
    "x='Hello this is my world'\n",
    "y={1:'a',2:'b'}\n",
    "\n",
    "print('h' in x)\n",
    "\n",
    "print('Hello ' not in x)\n",
    "\n",
    "print('3 is not dictionary key' not in y.keys())\n",
    "\n",
    "print('c is a dictionary value' in y.items())"
   ]
  },
  {
   "cell_type": "markdown",
   "id": "7acc79e4",
   "metadata": {},
   "source": [
    "# Q.2 Create list of elements and slice and dice it"
   ]
  },
  {
   "cell_type": "code",
   "execution_count": 1,
   "id": "9973f603",
   "metadata": {},
   "outputs": [
    {
     "data": {
      "text/plain": [
       "12"
      ]
     },
     "execution_count": 1,
     "metadata": {},
     "output_type": "execute_result"
    }
   ],
   "source": [
    "# List where entries are string.\n",
    "## length of list\n",
    "\n",
    "a=['d','g','h','k','r','u','i','r','o','d','p','j']\n",
    "len(a)"
   ]
  },
  {
   "cell_type": "code",
   "execution_count": 2,
   "id": "d70220f0",
   "metadata": {},
   "outputs": [
    {
     "data": {
      "text/plain": [
       "['g', 'h', 'k', 'r']"
      ]
     },
     "execution_count": 2,
     "metadata": {},
     "output_type": "execute_result"
    }
   ],
   "source": [
    "# Selecting entries from list.\n",
    "\n",
    "a[1:5]"
   ]
  },
  {
   "cell_type": "code",
   "execution_count": 3,
   "id": "afc8fabf",
   "metadata": {},
   "outputs": [
    {
     "data": {
      "text/plain": [
       "['j', 'p', 'd', 'o', 'r', 'i', 'u', 'r', 'k', 'h', 'g', 'd']"
      ]
     },
     "execution_count": 3,
     "metadata": {},
     "output_type": "execute_result"
    }
   ],
   "source": [
    "# Reversing the list.\n",
    "\n",
    "a[::-1]"
   ]
  },
  {
   "cell_type": "code",
   "execution_count": 4,
   "id": "17c268ce",
   "metadata": {},
   "outputs": [
    {
     "data": {
      "text/plain": [
       "['o', 'd', 'p']"
      ]
     },
     "execution_count": 4,
     "metadata": {},
     "output_type": "execute_result"
    }
   ],
   "source": [
    "# Selecting entries from list using reverse indexing.\n",
    "\n",
    "a[-4:-1] "
   ]
  },
  {
   "cell_type": "code",
   "execution_count": 5,
   "id": "00e851a5",
   "metadata": {},
   "outputs": [
    {
     "data": {
      "text/plain": [
       "['d', 'g', 'h']"
      ]
     },
     "execution_count": 5,
     "metadata": {},
     "output_type": "execute_result"
    }
   ],
   "source": [
    "# Selecting entries from the beginning upto some index.\n",
    "\n",
    "a[:3]"
   ]
  },
  {
   "cell_type": "code",
   "execution_count": 6,
   "id": "e17fcdb2",
   "metadata": {},
   "outputs": [
    {
     "data": {
      "text/plain": [
       "['k', 'r', 'u', 'i', 'r', 'o', 'd', 'p', 'j']"
      ]
     },
     "execution_count": 6,
     "metadata": {},
     "output_type": "execute_result"
    }
   ],
   "source": [
    "# Selecting entries from a particular index.\n",
    "\n",
    "a[3:]"
   ]
  },
  {
   "cell_type": "code",
   "execution_count": 7,
   "id": "03dc7924",
   "metadata": {},
   "outputs": [
    {
     "data": {
      "text/plain": [
       "['d', 'k', 'i', 'd']"
      ]
     },
     "execution_count": 7,
     "metadata": {},
     "output_type": "execute_result"
    }
   ],
   "source": [
    "# Selecting entries from the list using step size of 3\n",
    "\n",
    "a[::3]"
   ]
  },
  {
   "cell_type": "code",
   "execution_count": 8,
   "id": "c7c390e0",
   "metadata": {},
   "outputs": [
    {
     "data": {
      "text/plain": [
       "12"
      ]
     },
     "execution_count": 8,
     "metadata": {},
     "output_type": "execute_result"
    }
   ],
   "source": [
    "# Entries of list are integers.\n",
    "# Length of list.\n",
    "\n",
    "b=[11,12,13,14,15,23,34,36,67,56,44,39]\n",
    "len(b)"
   ]
  },
  {
   "cell_type": "code",
   "execution_count": 9,
   "id": "46bfb21f",
   "metadata": {},
   "outputs": [
    {
     "data": {
      "text/plain": [
       "[14, 15, 23, 34]"
      ]
     },
     "execution_count": 9,
     "metadata": {},
     "output_type": "execute_result"
    }
   ],
   "source": [
    "# Selecting entries from list.\n",
    "\n",
    "b[3:7]"
   ]
  },
  {
   "cell_type": "code",
   "execution_count": 10,
   "id": "2442d207",
   "metadata": {},
   "outputs": [
    {
     "data": {
      "text/plain": [
       "[39, 44, 56, 67, 36, 34, 23, 15, 14, 13, 12, 11]"
      ]
     },
     "execution_count": 10,
     "metadata": {},
     "output_type": "execute_result"
    }
   ],
   "source": [
    "# Reversing the list.\n",
    "\n",
    "b[::-1]"
   ]
  },
  {
   "cell_type": "code",
   "execution_count": 11,
   "id": "7fda1a89",
   "metadata": {},
   "outputs": [
    {
     "data": {
      "text/plain": [
       "[36, 67, 56]"
      ]
     },
     "execution_count": 11,
     "metadata": {},
     "output_type": "execute_result"
    }
   ],
   "source": [
    "# Selecting entries from list using reverse indexing.\n",
    "\n",
    "b[-5:-2]"
   ]
  },
  {
   "cell_type": "code",
   "execution_count": 12,
   "id": "ff873cee",
   "metadata": {},
   "outputs": [
    {
     "data": {
      "text/plain": [
       "[11, 12, 13, 14, 15, 23]"
      ]
     },
     "execution_count": 12,
     "metadata": {},
     "output_type": "execute_result"
    }
   ],
   "source": [
    "# Selecting entries from the beginning upto some index.\n",
    "\n",
    "b[:6]"
   ]
  },
  {
   "cell_type": "code",
   "execution_count": 13,
   "id": "72803cbf",
   "metadata": {},
   "outputs": [
    {
     "data": {
      "text/plain": [
       "[14, 15, 23, 34, 36, 67, 56, 44, 39]"
      ]
     },
     "execution_count": 13,
     "metadata": {},
     "output_type": "execute_result"
    }
   ],
   "source": [
    "# Selecting entries from a particular index.\n",
    "\n",
    "b[3:]"
   ]
  },
  {
   "cell_type": "code",
   "execution_count": 14,
   "id": "948b8cac",
   "metadata": {},
   "outputs": [
    {
     "data": {
      "text/plain": [
       "[11, 15, 67]"
      ]
     },
     "execution_count": 14,
     "metadata": {},
     "output_type": "execute_result"
    }
   ],
   "source": [
    "# Selecting entries from the list using step size of 4\n",
    "\n",
    "b[::4]"
   ]
  },
  {
   "cell_type": "markdown",
   "id": "56c1b4bf",
   "metadata": {},
   "source": [
    "# Q.3 Using while loop accept numbers until sum of numbers is less than 100."
   ]
  },
  {
   "cell_type": "code",
   "execution_count": 66,
   "id": "6e27deec",
   "metadata": {},
   "outputs": [
    {
     "name": "stdout",
     "output_type": "stream",
     "text": [
      "Current sum is 0\n",
      "Enter a number 8\n",
      "Total sum is 8.0\n",
      "Current sum is 8.0\n",
      "Enter a number 33\n",
      "Total sum is 41.0\n",
      "Current sum is 41.0\n",
      "Enter a number 3\n",
      "Total sum is 44.0\n",
      "Current sum is 44.0\n",
      "Enter a number 43\n",
      "Total sum is 87.0\n",
      "Current sum is 87.0\n",
      "Enter a number 3\n",
      "Total sum is 90.0\n",
      "Current sum is 90.0\n",
      "Enter a number 32\n",
      "122.0 The sum is greater than or equal to 100\n"
     ]
    }
   ],
   "source": [
    "a=1\n",
    "s=0\n",
    "x=0\n",
    "while a!=0:\n",
    "    print(\"Current sum is\",s)\n",
    "    a=float(input(\"Enter a number \"))\n",
    "    s=s+a\n",
    "    if (s>=100):\n",
    "        print(s,\"The sum is greater than or equal to 100\")\n",
    "        break\n",
    "    else:\n",
    "        print(\"Total sum is\",s)"
   ]
  },
  {
   "cell_type": "markdown",
   "id": "f806368b",
   "metadata": {},
   "source": [
    "# Q.4 Write a Python program to Read and write Excel files."
   ]
  },
  {
   "cell_type": "code",
   "execution_count": 56,
   "id": "62cd2fe9",
   "metadata": {},
   "outputs": [],
   "source": [
    "import xlsxwriter\n",
    "\n",
    "workbook=xlsxwriter.Workbook(\"My Workbook.xlsx\")\n",
    "\n",
    "worksheet=workbook.add_worksheet(\"Sheet 1\")\n",
    "\n",
    "scores=(['Name','Marks'],['Dileep',100],['Kiran',93],['Rohit',101],['Darshan',99],['Sangu',87],['Mallu',78])\n",
    "\n",
    "# Start from first cell. Row and column are indexed zero.\n",
    "row=0\n",
    "col=0\n",
    "for name, score in (scores):\n",
    "    worksheet.write(row,col,name)\n",
    "    worksheet.write(row,col+1,score)\n",
    "    row+=1\n",
    "    \n",
    "workbook.close()"
   ]
  },
  {
   "cell_type": "code",
   "execution_count": 57,
   "id": "65f91eba",
   "metadata": {},
   "outputs": [
    {
     "data": {
      "text/html": [
       "<div>\n",
       "<style scoped>\n",
       "    .dataframe tbody tr th:only-of-type {\n",
       "        vertical-align: middle;\n",
       "    }\n",
       "\n",
       "    .dataframe tbody tr th {\n",
       "        vertical-align: top;\n",
       "    }\n",
       "\n",
       "    .dataframe thead th {\n",
       "        text-align: right;\n",
       "    }\n",
       "</style>\n",
       "<table border=\"1\" class=\"dataframe\">\n",
       "  <thead>\n",
       "    <tr style=\"text-align: right;\">\n",
       "      <th></th>\n",
       "      <th>Name</th>\n",
       "      <th>Marks</th>\n",
       "    </tr>\n",
       "  </thead>\n",
       "  <tbody>\n",
       "    <tr>\n",
       "      <th>2</th>\n",
       "      <td>Rohit</td>\n",
       "      <td>101</td>\n",
       "    </tr>\n",
       "    <tr>\n",
       "      <th>4</th>\n",
       "      <td>Sangu</td>\n",
       "      <td>87</td>\n",
       "    </tr>\n",
       "  </tbody>\n",
       "</table>\n",
       "</div>"
      ],
      "text/plain": [
       "    Name  Marks\n",
       "2  Rohit    101\n",
       "4  Sangu     87"
      ]
     },
     "execution_count": 57,
     "metadata": {},
     "output_type": "execute_result"
    }
   ],
   "source": [
    "import pandas as pd\n",
    "df=pd.read_excel(\"My Workbook.xlsx\")\n",
    "df.sample(2)"
   ]
  },
  {
   "attachments": {},
   "cell_type": "markdown",
   "id": "4794cdfe",
   "metadata": {},
   "source": [
    "# Q.5 Create a 3 x 3 matrix with values ranging from 2 to 10 using numpy."
   ]
  },
  {
   "cell_type": "code",
   "execution_count": 15,
   "id": "ff5a40d3",
   "metadata": {},
   "outputs": [
    {
     "name": "stdout",
     "output_type": "stream",
     "text": [
      "[[ 2  3  4]\n",
      " [ 5  6  7]\n",
      " [ 8  9 10]]\n"
     ]
    }
   ],
   "source": [
    "import numpy as np\n",
    "x=np.arange(2,11).reshape(3,3)\n",
    "print(x)"
   ]
  },
  {
   "attachments": {},
   "cell_type": "markdown",
   "id": "34213571",
   "metadata": {},
   "source": [
    "# Q.6 Write a Python program to convert a list of numeric values one-dimensional NumPy array."
   ]
  },
  {
   "cell_type": "code",
   "execution_count": 34,
   "id": "5d6d0c2c",
   "metadata": {},
   "outputs": [
    {
     "name": "stdout",
     "output_type": "stream",
     "text": [
      "<class 'list'>\n",
      "<class 'numpy.ndarray'>\n"
     ]
    }
   ],
   "source": [
    "a=[1,2,4,44,3,22]\n",
    "print(type(a))\n",
    "b=np.asarray(a)\n",
    "print(type(b))"
   ]
  },
  {
   "attachments": {},
   "cell_type": "markdown",
   "id": "ab70c5fe",
   "metadata": {},
   "source": [
    "# Q.7 Write a Python program to create a null vector of size 10 and update sixth value to 11."
   ]
  },
  {
   "cell_type": "code",
   "execution_count": 32,
   "id": "45e99c83",
   "metadata": {},
   "outputs": [
    {
     "name": "stdout",
     "output_type": "stream",
     "text": [
      "[0. 0. 0. 0. 0. 0. 0. 0. 0. 0.]\n",
      "[ 0.  0.  0.  0.  0.  0. 11.  0.  0.  0.]\n"
     ]
    }
   ],
   "source": [
    "N=np.zeros(10)\n",
    "print(N)\n",
    "\n",
    "# Updating sixth value to 11\n",
    "\n",
    "N[6]=11\n",
    "\n",
    "print(N)"
   ]
  }
 ],
 "metadata": {
  "kernelspec": {
   "display_name": "Python 3 (ipykernel)",
   "language": "python",
   "name": "python3"
  },
  "language_info": {
   "codemirror_mode": {
    "name": "ipython",
    "version": 3
   },
   "file_extension": ".py",
   "mimetype": "text/x-python",
   "name": "python",
   "nbconvert_exporter": "python",
   "pygments_lexer": "ipython3",
   "version": "3.9.12"
  }
 },
 "nbformat": 4,
 "nbformat_minor": 5
}
